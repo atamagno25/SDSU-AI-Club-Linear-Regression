{
 "cells": [
  {
   "cell_type": "markdown",
   "metadata": {},
   "source": [
    "NBA Analysis\n",
    "\n",
    "The NBA is one of the most popular sports leagues on Earth with an average of 1.28 million viewers, according to variety.com,and it continues to prove itself as a fascinating league with plenty of excitement.\n",
    "\n",
    "This past season saw the Golden State Warriors defeat the Cleveland Cavaliers and claim their third title in four seasons.\n",
    "\n",
    "This season also saw many teams make the playoffs in surprsing ways. From the Milwaukee Bucks making the playoffs despite having a negative point differential to the Denver Nuggets missing out on the playoffs on the final day of the regular season with a positive point differential.\n",
    "\n",
    "With this problem, we are looking to find a linear regression model that best fits the data. We can use this data to see the desired point differential to make the playoffs, helping teams to perform to the level of making the playoffs or potentially dropping off completely and heading to the draft to create a team(Trust the process).\n",
    "\n",
    "Note: While this may seem like a simple linear regression, it does help us go over all the necessary foundations for us to move forward."
   ]
  },
  {
   "cell_type": "code",
   "execution_count": 13,
   "metadata": {},
   "outputs": [
    {
     "name": "stderr",
     "output_type": "stream",
     "text": [
      "UsageError: Line magic function `%matlpotlib` not found.\n"
     ]
    }
   ],
   "source": [
    "import pandas as pd\n",
    "from matplotlib import pyplot as plt\n",
    "import numpy as np\n",
    "from sklearn.linear_model import LinearRegression\n",
    "%matlpotlib inline \n",
    "import random\n",
    "import seaborn as sns"
   ]
  },
  {
   "cell_type": "markdown",
   "metadata": {},
   "source": [
    "Here are all the team stats from last season(2018-19 NBA Season): wins, PPG, OPPG, and PD (Points per game, Opponent points per game, and Point differential). The teams are listed in terms of games won starting with the team with the best record in the Bucks to the team headed for a lottery pick in the draft in the Pheonix Suns. This entire dataset is not used entirely but it shows us how the teams performed and how they came to achieve these point differentials."
   ]
  },
  {
   "cell_type": "code",
   "execution_count": 14,
   "metadata": {},
   "outputs": [],
   "source": [
    "#df=pd.read_csv(\"/Users/AntoineTamagno/Documents/nba.csv\",index_col=None,delimiter=\"\\t\")\n",
    "#df.head()"
   ]
  },
  {
   "cell_type": "markdown",
   "metadata": {},
   "source": [
    "Now this is where the fun begins, in this .txt file, you will find the dataset used for this process. You will find each team's wins as well as their point differential to help us build our linear regression."
   ]
  },
  {
   "cell_type": "code",
   "execution_count": 15,
   "metadata": {},
   "outputs": [],
   "source": [
    "nba=np.loadtxt(\"/Users/Antoine/Documents/nbaPF.txt\")\n"
   ]
  },
  {
   "cell_type": "code",
   "execution_count": 16,
   "metadata": {},
   "outputs": [
    {
     "data": {
      "text/plain": [
       "(30, 2)"
      ]
     },
     "execution_count": 16,
     "metadata": {},
     "output_type": "execute_result"
    }
   ],
   "source": [
    "nba.shape"
   ]
  },
  {
   "cell_type": "code",
   "execution_count": 17,
   "metadata": {},
   "outputs": [
    {
     "data": {
      "text/plain": [
       "Text(0.5,1,'Point Dif. vs Wins')"
      ]
     },
     "execution_count": 17,
     "metadata": {},
     "output_type": "execute_result"
    },
    {
     "data": {
      "image/png": "[encoded data removed]",
      "text/plain": [
       "<Figure size 432x288 with 1 Axes>"
      ]
     },
     "metadata": {
      "needs_background": "light"
     },
     "output_type": "display_data"
    }
   ],
   "source": [
    "for sample in enumerate(nba):\n",
    "    plt.scatter(sample[1][0], sample[1][1])\n",
    "plt.xlabel('PD')\n",
    "plt.ylabel('Wins')\n",
    "plt.title('Point Dif. vs Wins')\n"
   ]
  },
  {
   "cell_type": "markdown",
   "metadata": {},
   "source": [
    "The graph should be displayed like this showing us the point differential on the x-axis and the team's wins on the y-axis. Now, we move onto the gradient descent which we discussed in the powerpoint."
   ]
  },
  {
   "cell_type": "code",
   "execution_count": 18,
   "metadata": {},
   "outputs": [],
   "source": [
    "def gradientDescent(x, y, theta, alpha, m, numIterations):\n",
    "    xTrans = x.transpose()\n",
    "    for i in range(0, numIterations):\n",
    "        hypothesis = np.dot(x, theta)\n",
    "        loss = hypothesis - y\n",
    "    \n",
    "        gradient = np.dot(xTrans, loss) / m\n",
    "        theta = theta - alpha * gradient\n",
    "    return theta"
   ]
  },
  {
   "cell_type": "code",
   "execution_count": 19,
   "metadata": {},
   "outputs": [],
   "source": [
    "def dataFormat(nba, numOfRows):\n",
    "    x = np.zeros(shape=(numOfRows, 2))\n",
    "    y = np.zeros(shape=numOfRows)\n",
    "    for i, sample in enumerate(nba):\n",
    "        x[i][0] = 1\n",
    "        x[i][1] = sample[0]\n",
    "        \n",
    "        y[i] = sample[1]\n",
    "    return x, y\n"
   ]
  },
  {
   "cell_type": "code",
   "execution_count": 20,
   "metadata": {},
   "outputs": [],
   "source": [
    "def predict(x,theta): \n",
    "    return theta[0] + theta[1] * x"
   ]
  },
  {
   "cell_type": "markdown",
   "metadata": {},
   "source": [
    "Here we choose our learning rate, as well as the iterations that we give the program to do in order to produce the best possible regression."
   ]
  },
  {
   "cell_type": "code",
   "execution_count": 21,
   "metadata": {},
   "outputs": [
    {
     "name": "stdout",
     "output_type": "stream",
     "text": [
      "[40.98944759  2.62131728]\n"
     ]
    }
   ],
   "source": [
    "x, y = dataFormat(nba,len(nba))\n",
    "m, n = np.shape(x)\n",
    "numIterations= 100000\n",
    "alpha = 0.0001\n",
    "theta = np.ones(n)\n",
    "theta = gradientDescent(x, y, theta, alpha, m, numIterations)\n",
    "print(theta)"
   ]
  },
  {
   "cell_type": "code",
   "execution_count": 22,
   "metadata": {},
   "outputs": [],
   "source": [
    "def getY(x, theta): \n",
    "    return theta[0] + theta[1] * x\n"
   ]
  },
  {
   "cell_type": "code",
   "execution_count": 23,
   "metadata": {},
   "outputs": [
    {
     "data": {
      "text/plain": [
       "[<matplotlib.lines.Line2D at 0x1a1d183c10>]"
      ]
     },
     "execution_count": 23,
     "metadata": {},
     "output_type": "execute_result"
    },
    {
     "data": {
      "image/png": "[encoded data removed]",
      "text/plain": [
       "<Figure size 432x288 with 1 Axes>"
      ]
     },
     "metadata": {
      "needs_background": "light"
     },
     "output_type": "display_data"
    }
   ],
   "source": [
    "for sample in enumerate(nba):\n",
    "    plt.scatter(sample[1][0], sample[1][1])\n",
    "plt.xlabel('PD')\n",
    "plt.ylabel('Wins')\n",
    "plt.title('NBA')\n",
    "plt.plot([-9.4,8.5],[getY(-9.4,theta),getY(8.5, theta)])"
   ]
  },
  {
   "cell_type": "markdown",
   "metadata": {},
   "source": [
    "Here we are at the end, now that we have seen how the regression works, we can now apply to other fields. Now, let's see which teams make the playoffs next year and learn from our regression."
   ]
  },
  {
   "cell_type": "markdown",
   "metadata": {},
   "source": [
    "All stats were pulled from basketball-reference.com. If you are in interested in making more linear regressions with NBA data, use different variables found on https://www.basketball-reference.com/leagues/NBA_2018.html#all_team-stats-per_game to measure other stats against number of wins."
   ]
  },
  {
   "cell_type": "code",
   "execution_count": 25,
   "metadata": {},
   "outputs": [
    {
     "data": {
      "text/plain": [
       "48.85339941699753"
      ]
     },
     "execution_count": 25,
     "metadata": {},
     "output_type": "execute_result"
    }
   ],
   "source": [
    "predict(3,theta)"
   ]
  },
  {
   "cell_type": "code",
   "execution_count": null,
   "metadata": {},
   "outputs": [],
   "source": []
  }
 ],
 "metadata": {
  "kernelspec": {
   "display_name": "Python 2",
   "language": "python",
   "name": "python2"
  },
  "language_info": {
   "codemirror_mode": {
    "name": "ipython",
    "version": 2
   },
   "file_extension": ".py",
   "mimetype": "text/x-python",
   "name": "python",
   "nbconvert_exporter": "python",
   "pygments_lexer": "ipython2",
   "version": "2.7.15"
  }
 },
 "nbformat": 4,
 "nbformat_minor": 2
}
